{
    "nbformat_minor": 1, 
    "cells": [
        {
            "source": "<h1>Introduction/Business Problem (Introducci\u00f3n del problema de negocio)</h1>", 
            "cell_type": "markdown", 
            "metadata": {
                "collapsed": true
            }
        }, 
        {
            "source": "<h5>\nMany times when we travel to a new place we do not know where to go or we know of few places that we are interested in visiting.\nI will use FourSquare to help people discover places of interest in a city they are visiting.\nThey will have the option to search for sites of interest by category or by proximity, after finding the site of interest they can see that people have been there and their recommendations on the site.\n\n(Muchas veces cuando vamos de viaje a un nuevo lugar no sabemos a donde ir o sabemos de  pocos lugares que nos interesen visitar.\nVoy  a usar FourSquare para ayudar a que las personas descubran sitios de inter\u00e9s de una ciudad la cual est\u00e9n visitando.\nVan a tener la opci\u00f3n de buscar sitios de inter\u00e9s por categor\u00eda o por proximidad, despu\u00e9s de encontrar del sitio de inter\u00e9s pueden ver que personas han estado all\u00ed y sus recomendaciones sobre el sitio.)</h5>", 
            "cell_type": "markdown", 
            "metadata": {}
        }, 
        {
            "source": "<h1>Data section (Secci\u00f3n de datos)</h1>", 
            "cell_type": "markdown", 
            "metadata": {}
        }, 
        {
            "source": "<h5>\nThe data that will be used are: the user's location, latitude and longitude, name of the search category.(Los datos que van a ser usados son: la ubicaci\u00f3n del usuario latitud y longitud, nombre de la categor\u00eda de b\u00fasqueda.)</h5>", 
            "cell_type": "markdown", 
            "metadata": {}
        }, 
        {
            "source": "<h10>Camilo Cabrales</h10>", 
            "cell_type": "markdown", 
            "metadata": {}
        }, 
        {
            "source": "", 
            "cell_type": "code", 
            "metadata": {}, 
            "outputs": [], 
            "execution_count": null
        }
    ], 
    "metadata": {
        "kernelspec": {
            "display_name": "Python 3.5", 
            "name": "python3", 
            "language": "python"
        }, 
        "language_info": {
            "mimetype": "text/x-python", 
            "nbconvert_exporter": "python", 
            "version": "3.5.5", 
            "name": "python", 
            "file_extension": ".py", 
            "pygments_lexer": "ipython3", 
            "codemirror_mode": {
                "version": 3, 
                "name": "ipython"
            }
        }
    }, 
    "nbformat": 4
}