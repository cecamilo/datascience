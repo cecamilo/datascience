{
    "nbformat_minor": 1, 
    "cells": [
        {
            "source": "<h1>Introduction/Business Problem (Introducci\u00f3n del problema de negocio)</h1>", 
            "cell_type": "markdown", 
            "metadata": {
                "collapsed": true
            }
        }, 
        {
            "source": "<h5>\nI want to give a new way to help merchants find a place to place their new business.\nAll the sites in the city will be obtained by a category, in order to find in which part of the city there are fewer sites of that category, and to identify how problematic it is to create a business of that category. It will be supported by the suggestions of users in order to implement improvements to the service of the negotiations to create\n\n(Quiero dar una nueva forma de ayudar a los comerciantes a encontrar un sitio donde colocar su nuevo negocio.  \nSe van a obtener todos los sitios de la ciudad por una categoria, con el fin de encontrar en que parte de la ciudad existen menos sitios de esa categoria, e identificar que tan problebleme es crear un negocio de esa categoria.Se apoyara en la sugerencias de los usuarios con el fin de implamentar mejoras al servicio del negocia a crear)</h5>", 
            "cell_type": "markdown", 
            "metadata": {}
        }, 
        {
            "source": "<h1>Data section (Secci\u00f3n de datos)</h1>", 
            "cell_type": "markdown", 
            "metadata": {}
        }, 
        {
            "source": "<h5>\nThe data that will be used are: The city, the category of the business, safety or comments of users.(Los datos que van a ser usados son: La ciudad,la categoria del negocio,segurencias o comentarios de los usuarios.)</h5>", 
            "cell_type": "markdown", 
            "metadata": {}
        }, 
        {
            "source": "<h10>Camilo Cabrales</h10>", 
            "cell_type": "markdown", 
            "metadata": {}
        }, 
        {
            "source": "", 
            "cell_type": "code", 
            "metadata": {}, 
            "outputs": [], 
            "execution_count": null
        }
    ], 
    "metadata": {
        "kernelspec": {
            "display_name": "Python 3.5", 
            "name": "python3", 
            "language": "python"
        }, 
        "language_info": {
            "mimetype": "text/x-python", 
            "nbconvert_exporter": "python", 
            "version": "3.5.5", 
            "name": "python", 
            "file_extension": ".py", 
            "pygments_lexer": "ipython3", 
            "codemirror_mode": {
                "version": 3, 
                "name": "ipython"
            }
        }
    }, 
    "nbformat": 4
}