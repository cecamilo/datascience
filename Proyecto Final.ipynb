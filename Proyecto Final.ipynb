{
    "nbformat_minor": 1, 
    "cells": [
        {
            "source": "<h1>Introduction/Business Problem (Introducci\u00f3n del problema de negocio)</h1>", 
            "cell_type": "markdown", 
            "metadata": {
                "collapsed": true
            }
        }, 
        {
            "source": "<h5>\nI want to give a new way to help merchants find a place to place their new business.\nAll the sites in the city will be obtained by a category, in order to find in which part of the city there are fewer sites of that category, and to identify how problematic it is to create a business of that category. It will be supported by the suggestions of users in order to implement improvements to the service of the negotiations to create\n\n(Quiero dar una nueva forma de ayudar a los comerciantes a encontrar un sitio donde colocar su nuevo negocio.  \nSe van a obtener todos los sitios de la ciudad por una categoria, con el fin de encontrar en que parte de la ciudad existen menos sitios de esa categoria, e identificar que tan problebleme es crear un negocio de esa categoria.Se apoyara en la sugerencias de los usuarios con el fin de implamentar mejoras al servicio del negocia a crear)</h5>", 
            "cell_type": "markdown", 
            "metadata": {}
        }, 
        {
            "source": "<h1>Metodologia</h1>", 
            "cell_type": "markdown", 
            "metadata": {}
        }, 
        {
            "source": "Searching for the category we will find the number of businesses of the same type that are close to our location, in order to see if it is viable to place a new one and there is no create the first. In addition to the number of sites, it should be analyzed if the area is suitable for placing the business, since not all areas of the city allow a certain type of business, or because of its location there may not be available sites.\n(Buscando por la categoria vamos a encontrar la cantidad de negocios del mismo tipo que estan cercanos a nuestra ubicaci\u00f3n, con el fin de ver si es viable colocar uno nuevo y no existe crear el primero. Ademas de la cantidad de sitios se debe analizar si la zona es adecuada para colocar el negocio, ya que no todas las zonas de la ciudad permiten cierto tipo de negocio, o por su ubicaci\u00f3n puede que no hayan sitios disponiles, lo que nos lleva a que debemos completar las informaci\u00f3n con datos obtenidos de otra fuente de adicional.\nEl metodo a utilizar es correlaci\u00f3n que se hace entre el tipo de ubicaci\u00f3n de la ciudad y el tipo de negocio que se quiere colocar)", 
            "cell_type": "markdown", 
            "metadata": {}
        }, 
        {
            "source": "import pandas as pd\nfrom pandas import DataFrame\nimport numpy as np\nimport matplotlib.pyplot as plt\nfrom pandas.io.json import json_normalize\nimport requests", 
            "cell_type": "code", 
            "metadata": {}, 
            "outputs": [], 
            "execution_count": 2
        }, 
        {
            "source": "<h1>Data section (Secci\u00f3n de datos)</h1>", 
            "cell_type": "markdown", 
            "metadata": {}
        }, 
        {
            "source": "<h5>\nThe data that will be used are: The city, the category of the business, safety or comments of users.\n    Data: Latitude,Longuitude, Category (https://api.foursquare.com/v2/venues/categories),Data of the distribution of the city\n    (Los datos que van a ser usados son: La ciudad,la categoria del negocio,segurencias o comentarios de los usuarios.)</h5>", 
            "cell_type": "markdown", 
            "metadata": {}
        }, 
        {
            "source": "\nlatitude = \"4.6\"\nlonguitude = \"-74\"\ncategoryId =\"4bf58dd8d48988d1d5941735\"", 
            "cell_type": "code", 
            "metadata": {}, 
            "outputs": [], 
            "execution_count": 3
        }, 
        {
            "source": "<h2>Get Sites</h2>", 
            "cell_type": "markdown", 
            "metadata": {}
        }, 
        {
            "source": "def sites(latitude, longuitude,categoryId) :\n    url = \"https://api.foursquare.com/v2/venues/search?ll=\"+latitude+\",\"+longuitude+\"&categoryId=\"+categoryId+\"&client_id=BFDYGWIMM4QNCLVIY32DJR4D4IZASY04M5MHO2BKOOPFDEEO&client_secret=HWVRTMWO1T45U0UFZSVRCA0DYKS5NS1MUQPPVASMUM2KKDGZ&v=20180124\"\n    results = requests.get(url).json()\n    places = results['response']['venues']\n    df = json_normalize(places)\n    return df\n\ndf = sites(latitude,longuitude,categoryId)", 
            "cell_type": "code", 
            "metadata": {}, 
            "outputs": [], 
            "execution_count": 4
        }, 
        {
            "source": "print(df[[\"name\",\"location.address\",\"location.lat\",\"location.lng\"]])", 
            "cell_type": "code", 
            "metadata": {
                "scrolled": false
            }, 
            "outputs": [
                {
                    "output_type": "stream", 
                    "name": "stdout", 
                    "text": "                              name          location.address  location.lat  \\\n0   Rooftop Lounge by Regina Hotel                       NaN      4.601046   \n1                  Terrazas Akuare                       NaN      4.755372   \n2   Casa Dann Carlton Hotel Bogot\u00e1        Calle 94 No 19- 71      4.680465   \n3                       Bar Dorado                       NaN      4.696940   \n4    Embassy Suites Rosales Bogota          Calle 70 No 6-22      4.652503   \n5              Hotel EXE Bacat\u00e1 95                  Calle 95      4.680645   \n6                     hotel piso 7                       NaN      4.648156   \n7        Bogot\u00e1 Plaza Summit Hotel      Calle 100 # 18A - 30      4.686042   \n8                       Suites 108                 Calle 108      4.692379   \n9                Grand House Hotel                     Cr 18      4.677860   \n10                          Apache           Cra 11 No 93-77      4.675385   \n11              WXYZ Lounge Bogota                       NaN      4.682730   \n12                          ElTres             Cra 15 #88-36      4.673704   \n13                     Ardenes Bar    Embassy Suites Rosales      4.652505   \n14               Luxury Suites Bar                       NaN      4.676660   \n15         Au Room  W Hotel Bogot\u00e1                   W Hotel      4.693521   \n16                     Casa L\u0117lyt\u0117                  Calle 64      4.646531   \n17               Grand Plaza Hotel        Av Cr 40 # 24 - 31      4.631171   \n18                   Hotel Sonesta               Carrera 15A      4.703720   \n19                     Hotel V Bar             Cll 84 con 13      4.618079   \n20             Levels Bar | Hilton         Carrera 7 # 72-41      4.656077   \n21         Dann Norte Hotel Bogota  Avenida 15 Numero 114-09      4.694987   \n22                     Glasgow Bar                       NaN      4.704002   \n23                     Motel Fenix        Cll 73 con Crr 69H      4.682946   \n24                  Motel Maryland                       NaN      4.687622   \n25             La casa de El Lider      Calle 151 # 13A - 50      4.731048   \n26                         Barbaro                       NaN      4.652627   \n27    residencias y bares Restrepo                       NaN      4.584099   \n28                     Wine Lovers  Calle 127 No 7D -11 L101      4.702983   \n\n    location.lng  \n0     -74.071747  \n1     -74.081004  \n2     -74.054140  \n3     -74.138413  \n4     -74.055813  \n5     -74.049190  \n6     -74.065396  \n7     -74.051471  \n8     -74.046797  \n9     -74.147780  \n10    -74.047481  \n11    -74.119322  \n12    -74.053429  \n13    -74.055879  \n14    -74.050207  \n15    -74.034680  \n16    -74.056763  \n17    -74.092498  \n18    -74.043383  \n19    -74.144339  \n20    -74.055683  \n21    -74.043829  \n22    -74.043634  \n23    -74.088997  \n24    -74.119623  \n25    -74.036768  \n26    -74.056648  \n27    -74.088617  \n28    -74.032278  \n"
                }
            ], 
            "execution_count": 5
        }, 
        {
            "source": "Get relevant data", 
            "cell_type": "markdown", 
            "metadata": {}
        }, 
        {
            "source": "df1 = df[[\"name\",\"location.lat\",\"location.lng\"]]", 
            "cell_type": "code", 
            "metadata": {}, 
            "outputs": [], 
            "execution_count": 8
        }, 
        {
            "source": "Correelation", 
            "cell_type": "markdown", 
            "metadata": {}
        }, 
        {
            "source": "df1.corr()", 
            "cell_type": "code", 
            "metadata": {
                "scrolled": true
            }, 
            "outputs": [
                {
                    "output_type": "execute_result", 
                    "data": {
                        "text/plain": "              location.lat  location.lng\nlocation.lat      1.000000      0.235496\nlocation.lng      0.235496      1.000000", 
                        "text/html": "<div>\n<style scoped>\n    .dataframe tbody tr th:only-of-type {\n        vertical-align: middle;\n    }\n\n    .dataframe tbody tr th {\n        vertical-align: top;\n    }\n\n    .dataframe thead th {\n        text-align: right;\n    }\n</style>\n<table border=\"1\" class=\"dataframe\">\n  <thead>\n    <tr style=\"text-align: right;\">\n      <th></th>\n      <th>location.lat</th>\n      <th>location.lng</th>\n    </tr>\n  </thead>\n  <tbody>\n    <tr>\n      <th>location.lat</th>\n      <td>1.000000</td>\n      <td>0.235496</td>\n    </tr>\n    <tr>\n      <th>location.lng</th>\n      <td>0.235496</td>\n      <td>1.000000</td>\n    </tr>\n  </tbody>\n</table>\n</div>"
                    }, 
                    "execution_count": 9, 
                    "metadata": {}
                }
            ], 
            "execution_count": 9
        }, 
        {
            "source": "<a href=\"https://public.tableau.com/profile/camilo.cabrales#!/vizhome/Analisis_11/Sites?publish=yes\">Visual Analisis </a>", 
            "cell_type": "markdown", 
            "metadata": {}
        }, 
        {
            "source": "<h1>Visualisation</h1>", 
            "cell_type": "markdown", 
            "metadata": {}
        }, 
        {
            "source": "import folium\nmap_cluster = folium.Map(location=[latitude, longitude], zoom_start=10)\n\ncolor_code=['red','green','blue','yellow','orange']\nfor lat, lng, cluster, neighborhood in zip(df['Latitude'],df['Longitude'],df['Cluster'], df['Neighborhood']):\n    \n    label = folium.Popup(str(neighborhood) + ' Cluster ' + str(cluster), parse_html=True)\n    folium.CircleMarker(\n        [lat, lng],\n        radius=5,\n        popup=label,\n        color=color_code[cluster],\n        fill=True,\n        fill_color=color_code[cluster],\n        fill_opacity=0.7).add_to(map_cluster) \nmap_cluster", 
            "cell_type": "code", 
            "metadata": {}, 
            "outputs": [], 
            "execution_count": null
        }, 
        {
            "source": "<h1>Conclusion</h1>", 
            "cell_type": "markdown", 
            "metadata": {}
        }, 
        {
            "source": "In order to obtain a better result of the exercise, different data sources should be consulted, only with the foursquare information it is not possible to have a good prediction. However, you can easily identify the amount of business near a location.(Para poder obtener un resultado mejor del ejercicio se deben consultar diferentes fuentes de datos, solo con la informaci\u00f3n de foursquare no es posible tener una buena predicci\u00f3n. Sin embargo se puede identificar con facilidad la cantidad de negocios cerca a una ubicaci\u00f3n.)", 
            "cell_type": "markdown", 
            "metadata": {}
        }, 
        {
            "source": "", 
            "cell_type": "code", 
            "metadata": {}, 
            "outputs": [], 
            "execution_count": null
        }
    ], 
    "metadata": {
        "kernelspec": {
            "display_name": "Python 3.5", 
            "name": "python3", 
            "language": "python"
        }, 
        "language_info": {
            "mimetype": "text/x-python", 
            "nbconvert_exporter": "python", 
            "version": "3.5.5", 
            "name": "python", 
            "pygments_lexer": "ipython3", 
            "file_extension": ".py", 
            "codemirror_mode": {
                "version": 3, 
                "name": "ipython"
            }
        }
    }, 
    "nbformat": 4
}