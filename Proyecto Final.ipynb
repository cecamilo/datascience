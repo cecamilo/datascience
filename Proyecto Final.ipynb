{
    "nbformat_minor": 1, 
    "cells": [
        {
            "source": "<h1>Introduction/Business Problem (Introducci\u00f3n del problema de negocio)</h1>", 
            "cell_type": "markdown", 
            "metadata": {
                "collapsed": true
            }
        }, 
        {
            "source": "<h5>\nI want to give a new way to help merchants find a place to place their new business.\nAll the sites in the city will be obtained by a category, in order to find in which part of the city there are fewer sites of that category, and to identify how problematic it is to create a business of that category. It will be supported by the suggestions of users in order to implement improvements to the service of the negotiations to create\n\n(Quiero dar una nueva forma de ayudar a los comerciantes a encontrar un sitio donde colocar su nuevo negocio.  \nSe van a obtener todos los sitios de la ciudad por una categoria, con el fin de encontrar en que parte de la ciudad existen menos sitios de esa categoria, e identificar que tan problebleme es crear un negocio de esa categoria.Se apoyara en la sugerencias de los usuarios con el fin de implamentar mejoras al servicio del negocia a crear)</h5>", 
            "cell_type": "markdown", 
            "metadata": {}
        }, 
        {
            "source": "<h1>Metodologia</h1>", 
            "cell_type": "markdown", 
            "metadata": {}
        }, 
        {
            "source": "Searching for the category we will find the number of businesses of the same type that are close to our location, in order to see if it is viable to place a new one and there is no create the first. In addition to the number of sites, it should be analyzed if the area is suitable for placing the business, since not all areas of the city allow a certain type of business, or because of its location there may not be available sites.\n(Buscando por la categoria vamos a encontrar la cantidad de negocios del mismo tipo que estan cercanos a nuestra ubicaci\u00f3n, con el fin de ver si es viable colocar uno nuevo y no existe crear el primero. Ademas de la cantidad de sitios se debe analizar si la zona es adecuada para colocar el negocio, ya que no todas las zonas de la ciudad permiten cierto tipo de negocio, o por su ubicaci\u00f3n puede que no hayan sitios disponiles, lo que nos lleva a que debemos completar las informaci\u00f3n con datos obtenidos de otra fuente de adicional.\nEl metodo a utilizar es correlaci\u00f3n que se hace entre el tipo de ubicaci\u00f3n de la ciudad y el tipo de negocio que se quiere colocar)", 
            "cell_type": "markdown", 
            "metadata": {}
        }, 
        {
            "source": "import pandas as pd\nfrom pandas import DataFrame\nimport numpy as np\nimport matplotlib.pyplot as plt\nfrom pandas.io.json import json_normalize\nimport requests", 
            "cell_type": "code", 
            "metadata": {}, 
            "outputs": [], 
            "execution_count": 11
        }, 
        {
            "source": "<h1>Data section (Secci\u00f3n de datos)</h1>", 
            "cell_type": "markdown", 
            "metadata": {}
        }, 
        {
            "source": "<h5>\nThe data that will be used are: The city, the category of the business, safety or comments of users.\n    Data: Latitude,Longuitude, Category (https://api.foursquare.com/v2/venues/categories),Data of the distribution of the city\n    (Los datos que van a ser usados son: La ciudad,la categoria del negocio,segurencias o comentarios de los usuarios.)</h5>", 
            "cell_type": "markdown", 
            "metadata": {}
        }, 
        {
            "source": "\nlatitude = \"4.6\"\nlonguitude = \"-74\"\ncategoryId =\"4bf58dd8d48988d1d5941735\"", 
            "cell_type": "code", 
            "metadata": {}, 
            "outputs": [], 
            "execution_count": 12
        }, 
        {
            "source": "<h2>Get Sites</h2>", 
            "cell_type": "markdown", 
            "metadata": {}
        }, 
        {
            "source": "def sites(latitude, longuitude,categoryId) :\n    url = \"https://api.foursquare.com/v2/venues/search?ll=\"+latitude+\",\"+longuitude+\"&categoryId=\"+categoryId+\"&client_id=BFDYGWIMM4QNCLVIY32DJR4D4IZASY04M5MHO2BKOOPFDEEO&client_secret=HWVRTMWO1T45U0UFZSVRCA0DYKS5NS1MUQPPVASMUM2KKDGZ&v=20180124\"\n    results = requests.get(url).json()\n    places = results['response']['venues']\n    df = json_normalize(places)\n    return df\n\ndf = sites(latitude,longuitude,categoryId)", 
            "cell_type": "code", 
            "metadata": {}, 
            "outputs": [], 
            "execution_count": 13
        }, 
        {
            "source": "print(df[[\"name\",\"location.address\",\"location.lat\",\"location.lng\"]])", 
            "cell_type": "code", 
            "metadata": {
                "scrolled": false
            }, 
            "outputs": [
                {
                    "output_type": "stream", 
                    "name": "stdout", 
                    "text": "                                  name          location.address  \\\n0       Rooftop Lounge by Regina Hotel                       NaN   \n1                      Terrazas Akuare                       NaN   \n2        Embassy Suites Rosales Bogota          Calle 70 No 6-22   \n3       Casa Dann Carlton Hotel Bogot\u00e1        Calle 94 No 19- 71   \n4                           Bar Dorado                       NaN   \n5                  Hotel EXE Bacat\u00e1 95                  Calle 95   \n6                               ElTres             Cra 15 #88-36   \n7                           Suites 108                 Calle 108   \n8                               Apache           Cra 11 No 93-77   \n9            Bogot\u00e1 Plaza Summit Hotel      Calle 100 # 18A - 30   \n10                         Ardenes Bar    Embassy Suites Rosales   \n11                  WXYZ Lounge Bogota                       NaN   \n12             Au Room  W Hotel Bogot\u00e1                   W Hotel   \n13                       Hotel Sonesta               Carrera 15A   \n14                        hotel piso 7                       NaN   \n15                         Casa L\u0117lyt\u0117                  Calle 64   \n16                         Hotel V Bar             Cll 84 con 13   \n17             Dann Norte Hotel Bogota  Avenida 15 Numero 114-09   \n18                 Levels Bar | Hilton         Carrera 7 # 72-41   \n19                         Glasgow Bar                       NaN   \n20  Cama Solitaria Hotel Bogota Colbia                       NaN   \n21                      Motel Maryland                       NaN   \n22                    Motel Las Palmas                       NaN   \n23                         Motel Fenix        Cll 73 con Crr 69H   \n24                   Bar hotel habitel                       NaN   \n25                           Retiro 84                  Calle 84   \n26            Apartasuite Nuevo Dorado      Calle 53 No. 73 - 15   \n27                              Piso V                   Cra 119   \n28                         Wine Lovers  Calle 127 No 7D -11 L101   \n\n    location.lat  location.lng  \n0       4.601046    -74.071747  \n1       4.755372    -74.081004  \n2       4.652503    -74.055813  \n3       4.680465    -74.054140  \n4       4.696940    -74.138413  \n5       4.680645    -74.049190  \n6       4.673704    -74.053429  \n7       4.692379    -74.046797  \n8       4.675385    -74.047481  \n9       4.686042    -74.051471  \n10      4.652505    -74.055879  \n11      4.682730    -74.119322  \n12      4.693521    -74.034680  \n13      4.703720    -74.043383  \n14      4.648156    -74.065396  \n15      4.646531    -74.056763  \n16      4.618079    -74.144339  \n17      4.694987    -74.043829  \n18      4.656077    -74.055683  \n19      4.704002    -74.043634  \n20      4.676979    -74.046574  \n21      4.687622    -74.119623  \n22      4.649086    -74.066911  \n23      4.682946    -74.088997  \n24      4.691276    -74.133782  \n25      4.666488    -74.050920  \n26      4.672943    -74.108158  \n27      4.726134    -74.124305  \n28      4.702983    -74.032278  \n"
                }
            ], 
            "execution_count": 18
        }, 
        {
            "source": "print(df.count())", 
            "cell_type": "code", 
            "metadata": {
                "scrolled": true
            }, 
            "outputs": [
                {
                    "output_type": "stream", 
                    "name": "stdout", 
                    "text": "beenHere.count                   29\nbeenHere.lastCheckinExpiredAt    29\nbeenHere.marked                  29\nbeenHere.unconfirmedCount        29\ncategories                       29\nhasPerk                          29\nhereNow.count                    29\nhereNow.groups                   29\nhereNow.summary                  29\nid                               29\nlocation.address                 19\nlocation.cc                      29\nlocation.city                    21\nlocation.country                 29\nlocation.crossStreet             10\nlocation.distance                29\nlocation.formattedAddress        29\nlocation.labeledLatLngs          29\nlocation.lat                     29\nlocation.lng                     29\nlocation.neighborhood             1\nlocation.postalCode               3\nlocation.state                   21\nname                             29\nreferralId                       29\nstats.checkinsCount              29\nstats.tipCount                   29\nstats.usersCount                 29\nstats.visitsCount                29\nvenueChains                      29\nvenuePage.id                      2\nverified                         29\ndtype: int64\n"
                }
            ], 
            "execution_count": 15
        }, 
        {
            "source": "Correelation", 
            "cell_type": "markdown", 
            "metadata": {}
        }, 
        {
            "source": "df.corr()", 
            "cell_type": "code", 
            "metadata": {
                "scrolled": true
            }, 
            "outputs": [
                {
                    "output_type": "execute_result", 
                    "data": {
                        "text/plain": "                               beenHere.count  beenHere.lastCheckinExpiredAt  \\\nbeenHere.count                            NaN                            NaN   \nbeenHere.lastCheckinExpiredAt             NaN                            NaN   \nbeenHere.marked                           NaN                            NaN   \nbeenHere.unconfirmedCount                 NaN                            NaN   \nhasPerk                                   NaN                            NaN   \nhereNow.count                             NaN                            NaN   \nlocation.distance                         NaN                            NaN   \nlocation.lat                              NaN                            NaN   \nlocation.lng                              NaN                            NaN   \nstats.checkinsCount                       NaN                            NaN   \nstats.tipCount                            NaN                            NaN   \nstats.usersCount                          NaN                            NaN   \nstats.visitsCount                         NaN                            NaN   \nverified                                  NaN                            NaN   \n\n                               beenHere.marked  beenHere.unconfirmedCount  \\\nbeenHere.count                             NaN                        NaN   \nbeenHere.lastCheckinExpiredAt              NaN                        NaN   \nbeenHere.marked                            NaN                        NaN   \nbeenHere.unconfirmedCount                  NaN                        NaN   \nhasPerk                                    NaN                        NaN   \nhereNow.count                              NaN                        NaN   \nlocation.distance                          NaN                        NaN   \nlocation.lat                               NaN                        NaN   \nlocation.lng                               NaN                        NaN   \nstats.checkinsCount                        NaN                        NaN   \nstats.tipCount                             NaN                        NaN   \nstats.usersCount                           NaN                        NaN   \nstats.visitsCount                          NaN                        NaN   \nverified                                   NaN                        NaN   \n\n                               hasPerk  hereNow.count  location.distance  \\\nbeenHere.count                     NaN            NaN                NaN   \nbeenHere.lastCheckinExpiredAt      NaN            NaN                NaN   \nbeenHere.marked                    NaN            NaN                NaN   \nbeenHere.unconfirmedCount          NaN            NaN                NaN   \nhasPerk                            NaN            NaN                NaN   \nhereNow.count                      NaN            NaN                NaN   \nlocation.distance                  NaN            NaN           1.000000   \nlocation.lat                       NaN            NaN           0.601911   \nlocation.lng                       NaN            NaN          -0.770177   \nstats.checkinsCount                NaN            NaN                NaN   \nstats.tipCount                     NaN            NaN                NaN   \nstats.usersCount                   NaN            NaN                NaN   \nstats.visitsCount                  NaN            NaN                NaN   \nverified                           NaN            NaN          -0.155787   \n\n                               location.lat  location.lng  \\\nbeenHere.count                          NaN           NaN   \nbeenHere.lastCheckinExpiredAt           NaN           NaN   \nbeenHere.marked                         NaN           NaN   \nbeenHere.unconfirmedCount               NaN           NaN   \nhasPerk                                 NaN           NaN   \nhereNow.count                           NaN           NaN   \nlocation.distance                  0.601911     -0.770177   \nlocation.lat                       1.000000      0.006134   \nlocation.lng                       0.006134      1.000000   \nstats.checkinsCount                     NaN           NaN   \nstats.tipCount                          NaN           NaN   \nstats.usersCount                        NaN           NaN   \nstats.visitsCount                       NaN           NaN   \nverified                           0.046239      0.256410   \n\n                               stats.checkinsCount  stats.tipCount  \\\nbeenHere.count                                 NaN             NaN   \nbeenHere.lastCheckinExpiredAt                  NaN             NaN   \nbeenHere.marked                                NaN             NaN   \nbeenHere.unconfirmedCount                      NaN             NaN   \nhasPerk                                        NaN             NaN   \nhereNow.count                                  NaN             NaN   \nlocation.distance                              NaN             NaN   \nlocation.lat                                   NaN             NaN   \nlocation.lng                                   NaN             NaN   \nstats.checkinsCount                            NaN             NaN   \nstats.tipCount                                 NaN             NaN   \nstats.usersCount                               NaN             NaN   \nstats.visitsCount                              NaN             NaN   \nverified                                       NaN             NaN   \n\n                               stats.usersCount  stats.visitsCount  verified  \nbeenHere.count                              NaN                NaN       NaN  \nbeenHere.lastCheckinExpiredAt               NaN                NaN       NaN  \nbeenHere.marked                             NaN                NaN       NaN  \nbeenHere.unconfirmedCount                   NaN                NaN       NaN  \nhasPerk                                     NaN                NaN       NaN  \nhereNow.count                               NaN                NaN       NaN  \nlocation.distance                           NaN                NaN -0.155787  \nlocation.lat                                NaN                NaN  0.046239  \nlocation.lng                                NaN                NaN  0.256410  \nstats.checkinsCount                         NaN                NaN       NaN  \nstats.tipCount                              NaN                NaN       NaN  \nstats.usersCount                            NaN                NaN       NaN  \nstats.visitsCount                           NaN                NaN       NaN  \nverified                                    NaN                NaN  1.000000  ", 
                        "text/html": "<div>\n<style scoped>\n    .dataframe tbody tr th:only-of-type {\n        vertical-align: middle;\n    }\n\n    .dataframe tbody tr th {\n        vertical-align: top;\n    }\n\n    .dataframe thead th {\n        text-align: right;\n    }\n</style>\n<table border=\"1\" class=\"dataframe\">\n  <thead>\n    <tr style=\"text-align: right;\">\n      <th></th>\n      <th>beenHere.count</th>\n      <th>beenHere.lastCheckinExpiredAt</th>\n      <th>beenHere.marked</th>\n      <th>beenHere.unconfirmedCount</th>\n      <th>hasPerk</th>\n      <th>hereNow.count</th>\n      <th>location.distance</th>\n      <th>location.lat</th>\n      <th>location.lng</th>\n      <th>stats.checkinsCount</th>\n      <th>stats.tipCount</th>\n      <th>stats.usersCount</th>\n      <th>stats.visitsCount</th>\n      <th>verified</th>\n    </tr>\n  </thead>\n  <tbody>\n    <tr>\n      <th>beenHere.count</th>\n      <td>NaN</td>\n      <td>NaN</td>\n      <td>NaN</td>\n      <td>NaN</td>\n      <td>NaN</td>\n      <td>NaN</td>\n      <td>NaN</td>\n      <td>NaN</td>\n      <td>NaN</td>\n      <td>NaN</td>\n      <td>NaN</td>\n      <td>NaN</td>\n      <td>NaN</td>\n      <td>NaN</td>\n    </tr>\n    <tr>\n      <th>beenHere.lastCheckinExpiredAt</th>\n      <td>NaN</td>\n      <td>NaN</td>\n      <td>NaN</td>\n      <td>NaN</td>\n      <td>NaN</td>\n      <td>NaN</td>\n      <td>NaN</td>\n      <td>NaN</td>\n      <td>NaN</td>\n      <td>NaN</td>\n      <td>NaN</td>\n      <td>NaN</td>\n      <td>NaN</td>\n      <td>NaN</td>\n    </tr>\n    <tr>\n      <th>beenHere.marked</th>\n      <td>NaN</td>\n      <td>NaN</td>\n      <td>NaN</td>\n      <td>NaN</td>\n      <td>NaN</td>\n      <td>NaN</td>\n      <td>NaN</td>\n      <td>NaN</td>\n      <td>NaN</td>\n      <td>NaN</td>\n      <td>NaN</td>\n      <td>NaN</td>\n      <td>NaN</td>\n      <td>NaN</td>\n    </tr>\n    <tr>\n      <th>beenHere.unconfirmedCount</th>\n      <td>NaN</td>\n      <td>NaN</td>\n      <td>NaN</td>\n      <td>NaN</td>\n      <td>NaN</td>\n      <td>NaN</td>\n      <td>NaN</td>\n      <td>NaN</td>\n      <td>NaN</td>\n      <td>NaN</td>\n      <td>NaN</td>\n      <td>NaN</td>\n      <td>NaN</td>\n      <td>NaN</td>\n    </tr>\n    <tr>\n      <th>hasPerk</th>\n      <td>NaN</td>\n      <td>NaN</td>\n      <td>NaN</td>\n      <td>NaN</td>\n      <td>NaN</td>\n      <td>NaN</td>\n      <td>NaN</td>\n      <td>NaN</td>\n      <td>NaN</td>\n      <td>NaN</td>\n      <td>NaN</td>\n      <td>NaN</td>\n      <td>NaN</td>\n      <td>NaN</td>\n    </tr>\n    <tr>\n      <th>hereNow.count</th>\n      <td>NaN</td>\n      <td>NaN</td>\n      <td>NaN</td>\n      <td>NaN</td>\n      <td>NaN</td>\n      <td>NaN</td>\n      <td>NaN</td>\n      <td>NaN</td>\n      <td>NaN</td>\n      <td>NaN</td>\n      <td>NaN</td>\n      <td>NaN</td>\n      <td>NaN</td>\n      <td>NaN</td>\n    </tr>\n    <tr>\n      <th>location.distance</th>\n      <td>NaN</td>\n      <td>NaN</td>\n      <td>NaN</td>\n      <td>NaN</td>\n      <td>NaN</td>\n      <td>NaN</td>\n      <td>1.000000</td>\n      <td>0.601911</td>\n      <td>-0.770177</td>\n      <td>NaN</td>\n      <td>NaN</td>\n      <td>NaN</td>\n      <td>NaN</td>\n      <td>-0.155787</td>\n    </tr>\n    <tr>\n      <th>location.lat</th>\n      <td>NaN</td>\n      <td>NaN</td>\n      <td>NaN</td>\n      <td>NaN</td>\n      <td>NaN</td>\n      <td>NaN</td>\n      <td>0.601911</td>\n      <td>1.000000</td>\n      <td>0.006134</td>\n      <td>NaN</td>\n      <td>NaN</td>\n      <td>NaN</td>\n      <td>NaN</td>\n      <td>0.046239</td>\n    </tr>\n    <tr>\n      <th>location.lng</th>\n      <td>NaN</td>\n      <td>NaN</td>\n      <td>NaN</td>\n      <td>NaN</td>\n      <td>NaN</td>\n      <td>NaN</td>\n      <td>-0.770177</td>\n      <td>0.006134</td>\n      <td>1.000000</td>\n      <td>NaN</td>\n      <td>NaN</td>\n      <td>NaN</td>\n      <td>NaN</td>\n      <td>0.256410</td>\n    </tr>\n    <tr>\n      <th>stats.checkinsCount</th>\n      <td>NaN</td>\n      <td>NaN</td>\n      <td>NaN</td>\n      <td>NaN</td>\n      <td>NaN</td>\n      <td>NaN</td>\n      <td>NaN</td>\n      <td>NaN</td>\n      <td>NaN</td>\n      <td>NaN</td>\n      <td>NaN</td>\n      <td>NaN</td>\n      <td>NaN</td>\n      <td>NaN</td>\n    </tr>\n    <tr>\n      <th>stats.tipCount</th>\n      <td>NaN</td>\n      <td>NaN</td>\n      <td>NaN</td>\n      <td>NaN</td>\n      <td>NaN</td>\n      <td>NaN</td>\n      <td>NaN</td>\n      <td>NaN</td>\n      <td>NaN</td>\n      <td>NaN</td>\n      <td>NaN</td>\n      <td>NaN</td>\n      <td>NaN</td>\n      <td>NaN</td>\n    </tr>\n    <tr>\n      <th>stats.usersCount</th>\n      <td>NaN</td>\n      <td>NaN</td>\n      <td>NaN</td>\n      <td>NaN</td>\n      <td>NaN</td>\n      <td>NaN</td>\n      <td>NaN</td>\n      <td>NaN</td>\n      <td>NaN</td>\n      <td>NaN</td>\n      <td>NaN</td>\n      <td>NaN</td>\n      <td>NaN</td>\n      <td>NaN</td>\n    </tr>\n    <tr>\n      <th>stats.visitsCount</th>\n      <td>NaN</td>\n      <td>NaN</td>\n      <td>NaN</td>\n      <td>NaN</td>\n      <td>NaN</td>\n      <td>NaN</td>\n      <td>NaN</td>\n      <td>NaN</td>\n      <td>NaN</td>\n      <td>NaN</td>\n      <td>NaN</td>\n      <td>NaN</td>\n      <td>NaN</td>\n      <td>NaN</td>\n    </tr>\n    <tr>\n      <th>verified</th>\n      <td>NaN</td>\n      <td>NaN</td>\n      <td>NaN</td>\n      <td>NaN</td>\n      <td>NaN</td>\n      <td>NaN</td>\n      <td>-0.155787</td>\n      <td>0.046239</td>\n      <td>0.256410</td>\n      <td>NaN</td>\n      <td>NaN</td>\n      <td>NaN</td>\n      <td>NaN</td>\n      <td>1.000000</td>\n    </tr>\n  </tbody>\n</table>\n</div>"
                    }, 
                    "execution_count": 106, 
                    "metadata": {}
                }
            ], 
            "execution_count": 106
        }, 
        {
            "source": "which leads to that we must complete the information with data obtained from another source of additional information.", 
            "cell_type": "code", 
            "metadata": {}, 
            "outputs": [], 
            "execution_count": null
        }, 
        {
            "source": "<h1>Visualisation</h1>", 
            "cell_type": "markdown", 
            "metadata": {}
        }, 
        {
            "source": "import folium\nmap_cluster = folium.Map(location=[latitude, longitude], zoom_start=10)\n\ncolor_code=['red','green','blue','yellow','orange']\nfor lat, lng, cluster, neighborhood in zip(df['Latitude'],df['Longitude'],df['Cluster'], df['Neighborhood']):\n    \n    label = folium.Popup(str(neighborhood) + ' Cluster ' + str(cluster), parse_html=True)\n    folium.CircleMarker(\n        [lat, lng],\n        radius=5,\n        popup=label,\n        color=color_code[cluster],\n        fill=True,\n        fill_color=color_code[cluster],\n        fill_opacity=0.7).add_to(map_cluster) \nmap_cluster", 
            "cell_type": "code", 
            "metadata": {}, 
            "outputs": [], 
            "execution_count": null
        }, 
        {
            "source": "<h1>Conclusion</h1>", 
            "cell_type": "markdown", 
            "metadata": {}
        }, 
        {
            "source": "In order to obtain a better result of the exercise, different data sources should be consulted, only with the foursquare information it is not possible to have a good prediction. However, you can easily identify the amount of business near a location.(Para poder obtener un resultado mejor del ejercicio se deben consultar diferentes fuentes de datos, solo con la informaci\u00f3n de foursquare no es posible tener una buena predicci\u00f3n. Sin embargo se puede identificar con facilidad la cantidad de negocios cerca a una ubicaci\u00f3n.)", 
            "cell_type": "markdown", 
            "metadata": {}
        }, 
        {
            "source": "", 
            "cell_type": "code", 
            "metadata": {}, 
            "outputs": [], 
            "execution_count": null
        }
    ], 
    "metadata": {
        "kernelspec": {
            "display_name": "Python 3.5", 
            "name": "python3", 
            "language": "python"
        }, 
        "language_info": {
            "mimetype": "text/x-python", 
            "nbconvert_exporter": "python", 
            "version": "3.5.5", 
            "name": "python", 
            "pygments_lexer": "ipython3", 
            "file_extension": ".py", 
            "codemirror_mode": {
                "version": 3, 
                "name": "ipython"
            }
        }
    }, 
    "nbformat": 4
}